{
  "nbformat": 4,
  "nbformat_minor": 0,
  "metadata": {
    "colab": {
      "name": "EC414_HW10 (6).ipynb",
      "provenance": [],
      "collapsed_sections": [],
      "toc_visible": true
    },
    "kernelspec": {
      "display_name": "Python 3",
      "name": "python3"
    },
    "language_info": {
      "name": "python"
    }
  },
  "cells": [
    {
      "cell_type": "markdown",
      "metadata": {
        "id": "FA3HgvMuLFa_"
      },
      "source": [
        "# Homework 10: Neural Networks\n",
        "by Yousif Khaireddin\n",
        "\n",
        "**Due date**: April 28, Wednesday by 11:59pm\n"
      ]
    },
    {
      "cell_type": "markdown",
      "metadata": {
        "id": "3lGwvIL2LWPq"
      },
      "source": [
        "## Setup"
      ]
    },
    {
      "cell_type": "markdown",
      "metadata": {
        "id": "aJca6HvbLYYA"
      },
      "source": [
        "To run and solve this assignment, you must have access to a working Jupyter Notebook installation. We recommend Google Colab. If you are already familiar with Jupyter and have your own installation, you may use it; however, you will have to tweak Colab-specific commands we've entered here (for example, file uploads).\n",
        "\n",
        "To use Google Colab:\n",
        "\n",
        "1. Download this `ipynb` file.\n",
        "2. Navigate to https://colab.research.google.com/ and select `Upload` in the pop-up window.\n",
        "3. Upload this file. It will then open in Colab.\n",
        "\n",
        "The below statements assume that you have already followed these instructions. If you need help with Python syntax, NumPy, or Matplotlib, you might find Week 1 discussion material useful.\n",
        "\n",
        "To run code in a cell or to render Markdown+LaTeX press Ctrl+Enter or \"`Run`\" button above. To edit any code or text cell, double-click on its content. Put your solution into boxes marked with **`[double click here to add a solution]`** and press Ctrl+Enter to render text. You can add cells via `+` sign at the top left corner.\n",
        "\n",
        "**Submission instructions**: please upload your completed solution file as well as a scan of any handwritten answers to Gradescope by **April 28th at midnight**.."
      ]
    },
    {
      "cell_type": "markdown",
      "metadata": {
        "id": "21L6Ct-yWkzB"
      },
      "source": [
        "## **Question 1:** Useful Functions and Setup\n"
      ]
    },
    {
      "cell_type": "code",
      "metadata": {
        "id": "GmPYFTaHWjqG"
      },
      "source": [
        "import torch\n",
        "import torchvision\n",
        "from torchvision import transforms, datasets\n",
        "import torch.nn as nn\n",
        "import torch.nn.functional as F\n",
        "import torch.optim as optim\n",
        "from matplotlib import pyplot as plt\n",
        "\n",
        "device = torch.device(\"cuda:0\" if torch.cuda.is_available() else \"cpu\")"
      ],
      "execution_count": null,
      "outputs": []
    },
    {
      "cell_type": "markdown",
      "metadata": {
        "id": "qOKHdi56W9ba"
      },
      "source": [
        "### Loading Dataset"
      ]
    },
    {
      "cell_type": "markdown",
      "metadata": {
        "id": "QTJuvHbtXGam"
      },
      "source": [
        "Using the datasets module within torchvision, download the MNIST dataset.\n",
        "1. Download both the training dataset as well as the testing dataset.\n",
        "2. Using _torch.utils.data.random_split_ seperate the training dataset into 50000 training samples and 10000 validation samples "
      ]
    },
    {
      "cell_type": "code",
      "metadata": {
        "id": "sy0TPPOIW0NV"
      },
      "source": [
        "# Training and validation data\n",
        "train_dataset = datasets.MNIST('./data', train  = True, download = True, transform=transforms.ToTensor()) # CODE\n",
        "train_dataset, val_dataset = torch.utils.data.random_split(train_dataset, [50000, 10000]) # CODE\n",
        "\n",
        "# Testing data\n",
        "test_dataset = datasets.MNIST('./data', train  = False, download = True, transform=transforms.ToTensor())# CODE"
      ],
      "execution_count": null,
      "outputs": []
    },
    {
      "cell_type": "code",
      "metadata": {
        "colab": {
          "base_uri": "https://localhost:8080/"
        },
        "id": "UHpxRhffW2S0",
        "outputId": "2c4fbb5b-4e12-49bb-949d-0abe8757470c"
      },
      "source": [
        "print(\"Number of Training Samples:\", len(train_dataset), sep='\\t')\n",
        "print(\"Number of Validation Samples:\", len(val_dataset), sep='\\t')\n",
        "print(\"Number of Testing Samples:\", len(test_dataset), sep='\\t')"
      ],
      "execution_count": null,
      "outputs": [
        {
          "output_type": "stream",
          "text": [
            "Number of Training Samples:\t50000\n",
            "Number of Validation Samples:\t10000\n",
            "Number of Testing Samples:\t10000\n"
          ],
          "name": "stdout"
        }
      ]
    },
    {
      "cell_type": "markdown",
      "metadata": {
        "id": "bbdb_rMIXtnl"
      },
      "source": [
        "Build your dataloaders using the datasets above. Make sure to use a batchsize of 64 and to shuffle your dataset."
      ]
    },
    {
      "cell_type": "code",
      "metadata": {
        "colab": {
          "base_uri": "https://localhost:8080/"
        },
        "id": "BBb-AgXILscc",
        "outputId": "144a9c7a-17c4-45b7-bb73-94a114742214"
      },
      "source": [
        "# Creating Dataloaders\n",
        "from torch.utils.data import DataLoader\n",
        "trainloader = DataLoader(train_dataset, batch_size = 64, shuffle = True)\n",
        "valloader = DataLoader(val_dataset, batch_size = 64, shuffle = True) # CODE\n",
        "testloader = DataLoader(test_dataset, batch_size = 64, shuffle = True) # CODE\n",
        "\n",
        "print(\"Number of Training Batches:\", len(trainloader), sep='\\t')\n",
        "print(\"Number of Validation Batches:\", len(valloader), sep='\\t')\n",
        "print(\"Number of Testing Batches:\", len(testloader), sep='\\t')"
      ],
      "execution_count": null,
      "outputs": [
        {
          "output_type": "stream",
          "text": [
            "Number of Training Batches:\t782\n",
            "Number of Validation Batches:\t157\n",
            "Number of Testing Batches:\t157\n"
          ],
          "name": "stdout"
        }
      ]
    },
    {
      "cell_type": "markdown",
      "metadata": {
        "id": "i7wz8deJX--T"
      },
      "source": [
        "### Important functions"
      ]
    },
    {
      "cell_type": "markdown",
      "metadata": {
        "id": "uAOkWQCHYBo6"
      },
      "source": [
        "Complete the function `train(net, dataloader, criterion, optimizer)` which will train a given network for 1 whole epoch using a given dataloader.\n",
        "\n",
        "This function will iterate through the dataloader, compute the network outputs, the loss, backpropagage to update the networks weights, and return the accuracy and average loss across the dataloader\n",
        "\n",
        "Ensure to setup the network in training mode using the .train() attribute built by pytorch."
      ]
    },
    {
      "cell_type": "code",
      "metadata": {
        "id": "Hn5dfDohL_Yr"
      },
      "source": [
        "def train(net, dataloader, criterion, optimizer):\n",
        "    net = net.train()\n",
        "    loss_tr, correct_count, n_samples = 0.0, 0.0, 0.0\n",
        "    loss = 0.0\n",
        "    \n",
        "    for i, data in enumerate(dataloader):\n",
        "        inputs, labels = data\n",
        "        inputs, labels = inputs.to(device), labels.to(device)\n",
        "\n",
        "        # zero the parameter gradients\n",
        "        # CODE\n",
        "        optimizer.zero_grad()\n",
        "        \n",
        "        # forward + backward + optimize\n",
        "        # CODE\n",
        "        outputs = net(inputs)\n",
        "        loss_tr = criterion(outputs, labels)\n",
        "        loss_tr.backward()\n",
        "        optimizer.step()\n",
        "        \n",
        "        # store / calculate performance metrics (acc, loss)\n",
        "        # CODE\n",
        "        _, predicted = torch.max(outputs.data, 1)\n",
        "        n_samples += labels.size(0)\n",
        "        correct_count += (predicted == labels).sum().item()\n",
        "        loss += loss_tr.item() / labels.size(0)\n",
        "        \n",
        "    acc = 100 * correct_count / n_samples\n",
        "\n",
        "    return acc, loss"
      ],
      "execution_count": null,
      "outputs": []
    },
    {
      "cell_type": "markdown",
      "metadata": {
        "id": "9w8IH2TgYtvA"
      },
      "source": [
        "Complete the function `evaluate(net, dataloader, criterion)` which will evauate a given network's performance across a given dataloader\n",
        "\n",
        "This function will iterate through the dataloader, compute the network outputs, the loss, and return the accuracy and average loss across the dataloader.\n",
        "\n",
        "Ensure to setup the network in validation mode using the .eval() attribute built by pytorch."
      ]
    },
    {
      "cell_type": "code",
      "metadata": {
        "id": "gmSATkk0MeyZ"
      },
      "source": [
        "def evaluate(net, dataloader, criterion):\n",
        "    net = net.eval()\n",
        "    loss_tr, correct_count, n_samples = 0.0, 0.0, 0.0\n",
        "    loss = 0.0\n",
        "    \n",
        "    for data in dataloader:\n",
        "        inputs, labels = data\n",
        "        inputs, labels = inputs.to(device), labels.to(device)\n",
        "\n",
        "        # compute network predictions\n",
        "        # CODE\n",
        "        outputs = net(inputs)\n",
        "        loss_tr = criterion(outputs, labels)\n",
        "\n",
        "        # calculate performance metrics (acc, loss)\n",
        "        # CODE\n",
        "        _ , predicted = torch.max(outputs.data, 1)\n",
        "        loss += loss_tr.item() / labels.size(0)\n",
        "        n_samples += labels.size(0)\n",
        "        correct_count += (predicted == labels).sum().item()\n",
        "\n",
        "    acc = 100 * correct_count / n_samples\n",
        "\n",
        "    return acc, loss"
      ],
      "execution_count": null,
      "outputs": []
    },
    {
      "cell_type": "markdown",
      "metadata": {
        "id": "Y_3JbqJdljba"
      },
      "source": [
        "Complete the function `count_parameters(model)` which should count the number of trainable parameters in a network."
      ]
    },
    {
      "cell_type": "code",
      "metadata": {
        "id": "Vfjqm98wliyq"
      },
      "source": [
        "from keras.models import Model\n",
        "def count_parameters(model):\n",
        "\n",
        "    count = sum(param.numel() for param in model.parameters()) # CODE\n",
        "\n",
        "    return count"
      ],
      "execution_count": null,
      "outputs": []
    },
    {
      "cell_type": "markdown",
      "metadata": {
        "id": "sHTlqg-ynxuw"
      },
      "source": [
        "The following function will be used to create plots of your performance metrics.\n"
      ]
    },
    {
      "cell_type": "code",
      "metadata": {
        "id": "GLrYdvYcnj_w"
      },
      "source": [
        "def plot_metrics(train_acc, train_loss, val_acc, val_loss):\n",
        "    plt.figure()\n",
        "    plt.plot(train_acc, 'g', label='Training Acc')\n",
        "    plt.plot(val_acc, 'b', label='Validation Acc')\n",
        "    plt.title('Accuracy')\n",
        "    plt.xlabel('Epoch')\n",
        "    plt.ylabel('Acc')\n",
        "    plt.legend()\n",
        "    plt.grid()\n",
        "    plt.show()\n",
        "\n",
        "    plt.figure()\n",
        "    plt.plot(train_loss, 'g', label='Training Loss')\n",
        "    plt.plot(val_loss, 'b', label='Validation Loss')\n",
        "    plt.title('Loss')\n",
        "    plt.xlabel('Epoch')\n",
        "    plt.ylabel('Loss')\n",
        "    plt.legend()\n",
        "    plt.grid()\n",
        "    plt.show()"
      ],
      "execution_count": null,
      "outputs": []
    },
    {
      "cell_type": "markdown",
      "metadata": {
        "id": "KvMsX7ULLiZi"
      },
      "source": [
        "## **Question 2:** Dense Networks\n",
        "\n",
        "**Note:**\n",
        "In solving the following sections, it is possible very likely that your results do not match ours exactly. This is due to the randomization in initilizations. What is important is that they are within the margins we set when defining the problem. "
      ]
    },
    {
      "cell_type": "markdown",
      "metadata": {
        "id": "0QN0isnZalFE"
      },
      "source": [
        "### Initial Performance"
      ]
    },
    {
      "cell_type": "markdown",
      "metadata": {
        "id": "yAWgb_xhZL9p"
      },
      "source": [
        "Recall from the discussion session, we provided you with the following fully connected (dense) network.\n"
      ]
    },
    {
      "cell_type": "code",
      "metadata": {
        "colab": {
          "base_uri": "https://localhost:8080/"
        },
        "id": "jDORbAZ3Lycf",
        "outputId": "224b01e7-344a-40dd-cd75-ce8440c28707"
      },
      "source": [
        "class Dense(nn.Module):\n",
        "    # What does your model contain\n",
        "    def __init__(self):\n",
        "        super().__init__()\n",
        "        self.fc1 = nn.Linear(28*28, 64)\n",
        "        self.fc2 = nn.Linear(64, 64)\n",
        "        self.fc3 = nn.Linear(64, 64)\n",
        "        self.fc4 = nn.Linear(64, 10)    # 10 classes\n",
        "    \n",
        "    # This is how data moves when passed to your model\n",
        "    def forward(self, x):\n",
        "        x = x.view(-1, 28*28)   # Flatten\n",
        "        x = F.relu(self.fc1(x)) # Pass through layers\n",
        "        x = F.relu(self.fc2(x))\n",
        "        x = F.relu(self.fc3(x))\n",
        "        x = F.log_softmax(self.fc4(x), dim=1)   # soft max \n",
        "        \n",
        "        return x\n",
        "\n",
        "dense = Dense().to(device)\n",
        "\n",
        "print(\"Model Architecture\")\n",
        "print(dense)\n",
        "print(\"Number of parameters:\", count_parameters(dense))"
      ],
      "execution_count": null,
      "outputs": [
        {
          "output_type": "stream",
          "text": [
            "Model Architecture\n",
            "Dense(\n",
            "  (fc1): Linear(in_features=784, out_features=64, bias=True)\n",
            "  (fc2): Linear(in_features=64, out_features=64, bias=True)\n",
            "  (fc3): Linear(in_features=64, out_features=64, bias=True)\n",
            "  (fc4): Linear(in_features=64, out_features=10, bias=True)\n",
            ")\n",
            "Number of parameters: 59210\n"
          ],
          "name": "stdout"
        }
      ]
    },
    {
      "cell_type": "markdown",
      "metadata": {
        "id": "xmhDgBUgZo1-"
      },
      "source": [
        "Complete the following code to train the network above for 3 epochs.\n",
        "1. For your optimizer, use stochatic gradient descent with a learning rate of 0.001\n",
        "2. For your criterion (loss function) use Cross Entropy Loss (the one built by pytorch)\n",
        "\n",
        "**Note:** We are expecting bad performance here using the above mentioned parameters."
      ]
    },
    {
      "cell_type": "code",
      "metadata": {
        "colab": {
          "base_uri": "https://localhost:8080/"
        },
        "id": "LSTiaq2BL1Qg",
        "outputId": "a7344240-36c6-45f8-9b24-d4f08d5f67bd"
      },
      "source": [
        "optimizer = optim.SGD(dense.parameters(), lr=.001) # CODE\n",
        "criterion = nn.CrossEntropyLoss() # CODE\n",
        "\n",
        "train_acc, train_loss = [],[]\n",
        "val_acc, val_loss = [],[]\n",
        "\n",
        "print(\"Training on\", device)\n",
        "for epoch in range(3):\n",
        "    \n",
        "    acc_tr, loss_tr = train(dense, trainloader, criterion, optimizer)\n",
        "    train_loss.append(loss_tr)\n",
        "    train_acc.append(acc_tr)\n",
        "\n",
        "    acc_v, loss_v = evaluate(dense, valloader, criterion)\n",
        "    val_loss.append(loss_v)\n",
        "    val_acc.append(acc_v)\n",
        "\n",
        "    print('Epoch %2d' % (epoch + 1),\n",
        "            'Train Accuracy: %2.2f %%' % acc_tr,\n",
        "            'Val Accuracy: %2.2f' % acc_v,\n",
        "            sep='\\t\\t')"
      ],
      "execution_count": null,
      "outputs": [
        {
          "output_type": "stream",
          "text": [
            "Training on cpu\n",
            "Epoch  1\t\tTrain Accuracy: 12.45 %\t\tVal Accuracy: 13.47\n",
            "Epoch  2\t\tTrain Accuracy: 14.53 %\t\tVal Accuracy: 15.30\n",
            "Epoch  3\t\tTrain Accuracy: 17.19 %\t\tVal Accuracy: 18.13\n"
          ],
          "name": "stdout"
        }
      ]
    },
    {
      "cell_type": "markdown",
      "metadata": {
        "id": "GuulZlD3xGwD"
      },
      "source": [
        "Plot your peroformance using `plot_metrics` then evaluate your performance on the testloader / testset\n",
        "\n"
      ]
    },
    {
      "cell_type": "code",
      "metadata": {
        "colab": {
          "base_uri": "https://localhost:8080/",
          "height": 588
        },
        "id": "-p36C6a9atGE",
        "outputId": "3c5e4d85-70cd-40f7-c676-fecb9adfdb76"
      },
      "source": [
        "plot_metrics(train_acc, train_loss, val_acc, val_loss)\n",
        "\n",
        "acc_test, loss_test = evaluate(dense, testloader, criterion) # CODE\n",
        "print('Test Accuracy: %2.2f %%' % acc_test,\n",
        "        'Test Loss: %2.6f' % loss_test,\n",
        "        sep='\\t\\t')"
      ],
      "execution_count": null,
      "outputs": [
        {
          "output_type": "display_data",
          "data": {
            "image/png": "[encoded data removed]",
            "text/plain": [
              "<Figure size 432x288 with 1 Axes>"
            ]
          },
          "metadata": {
            "tags": []
          }
        },
        {
          "output_type": "display_data",
          "data": {
            "image/png": "[encoded data removed]",
            "text/plain": [
              "<Figure size 432x288 with 1 Axes>"
            ]
          },
          "metadata": {
            "tags": []
          }
        },
        {
          "output_type": "stream",
          "text": [
            "Test Accuracy: 18.24 %\t\tTest Loss: 5.708458\n"
          ],
          "name": "stdout"
        }
      ]
    },
    {
      "cell_type": "markdown",
      "metadata": {
        "id": "jtsiV2P7arfv"
      },
      "source": [
        "### Tuned Performance"
      ]
    },
    {
      "cell_type": "markdown",
      "metadata": {
        "id": "YPD5fh7TazWD"
      },
      "source": [
        "Vary any parameters you would like in the model's architecture (number of layers, hidden units, activation functions) or the training parameters (number of epochs, optimizer, learning rate, weight decay, momentum) to improve your initial performance. \n",
        "\n",
        "**Notes and requirements:** \n",
        "- The minimum acceptable test accuracy is 90%\n",
        "- If you run your network multiple times it is possible to get very different results with each run. This is due to the random initializations.\n",
        "- You are required to note down 5 significant changes you have experimented with and explain how these changes impacted your performance and your understanding as to why this is the case.\n",
        "- Keep your best performing model / training method and create the same plots and testing performance from above. "
      ]
    },
    {
      "cell_type": "code",
      "metadata": {
        "colab": {
          "base_uri": "https://localhost:8080/"
        },
        "id": "XcembImnaxFl",
        "outputId": "0be32c14-976b-45e0-b282-8d67fb44b0bb"
      },
      "source": [
        "class TunedDense(nn.Module):\n",
        "    # What does your model contain\n",
        "    def __init__(self):\n",
        "        super().__init__()\n",
        "        # CODE\n",
        "        self.fc1 = nn.Linear(28*28, 64)\n",
        "        self.fc2 = nn.Linear(64, 64)\n",
        "        self.fc3 = nn.Linear(64, 64)\n",
        "        self.fc4 = nn.Linear(64, 10)\n",
        "\n",
        "    \n",
        "    # This is how data moves when passed to your model\n",
        "    def forward(self, x):\n",
        "        # CODE \n",
        "        x = x.view(-1, 28*28)\n",
        "        x = F.relu(self.fc1(x))\n",
        "        x = F.relu(self.fc2(x))\n",
        "        x = F.relu(self.fc3(x))\n",
        "        x = F.log_softmax(self.fc4(x), dim=1)\n",
        "        \n",
        "        return x\n",
        "\n",
        "tuned_dense = TunedDense().to(device)\n",
        "\n",
        "print(\"Model Architecture\")\n",
        "print(tuned_dense)\n",
        "print(\"Number of parameters:\", count_parameters(tuned_dense))"
      ],
      "execution_count": null,
      "outputs": [
        {
          "output_type": "stream",
          "text": [
            "Model Architecture\n",
            "TunedDense(\n",
            "  (fc1): Linear(in_features=784, out_features=64, bias=True)\n",
            "  (fc2): Linear(in_features=64, out_features=64, bias=True)\n",
            "  (fc3): Linear(in_features=64, out_features=64, bias=True)\n",
            "  (fc4): Linear(in_features=64, out_features=10, bias=True)\n",
            ")\n",
            "Number of parameters: 59210\n"
          ],
          "name": "stdout"
        }
      ]
    },
    {
      "cell_type": "code",
      "metadata": {
        "colab": {
          "base_uri": "https://localhost:8080/"
        },
        "id": "_Rsd082CbL0L",
        "outputId": "18656277-e23b-4a4f-b49b-1586af7a448e"
      },
      "source": [
        "optimizer = optim.SGD(tuned_dense.parameters(), lr = .001, momentum = .9) # CODE\n",
        "criterion = nn.CrossEntropyLoss() # CODE\n",
        "\n",
        "train_acc, train_loss = [],[]\n",
        "val_acc, val_loss = [],[]\n",
        "\n",
        "print(\"Training on\", device)\n",
        "for epoch in range(10):\n",
        "    \n",
        "    acc_tr, loss_tr = train(tuned_dense, trainloader, criterion, optimizer)\n",
        "    train_loss.append(loss_tr)\n",
        "    train_acc.append(acc_tr)\n",
        "\n",
        "    acc_v, loss_v = evaluate(tuned_dense, valloader, criterion)\n",
        "    val_loss.append(loss_v)\n",
        "    val_acc.append(acc_v)\n",
        "\n",
        "    print('Epoch %2d' % (epoch + 1),\n",
        "            'Train Accuracy: %2.2f %%' % acc_tr,\n",
        "            'Val Accuracy: %2.2f' % acc_v,\n",
        "            sep='\\t\\t')"
      ],
      "execution_count": null,
      "outputs": [
        {
          "output_type": "stream",
          "text": [
            "Training on cpu\n",
            "Epoch  1\t\tTrain Accuracy: 21.32 %\t\tVal Accuracy: 39.88\n",
            "Epoch  2\t\tTrain Accuracy: 56.41 %\t\tVal Accuracy: 74.22\n",
            "Epoch  3\t\tTrain Accuracy: 80.19 %\t\tVal Accuracy: 83.44\n",
            "Epoch  4\t\tTrain Accuracy: 86.10 %\t\tVal Accuracy: 87.80\n",
            "Epoch  5\t\tTrain Accuracy: 88.99 %\t\tVal Accuracy: 89.27\n",
            "Epoch  6\t\tTrain Accuracy: 90.32 %\t\tVal Accuracy: 89.97\n",
            "Epoch  7\t\tTrain Accuracy: 91.06 %\t\tVal Accuracy: 90.98\n",
            "Epoch  8\t\tTrain Accuracy: 91.79 %\t\tVal Accuracy: 91.45\n",
            "Epoch  9\t\tTrain Accuracy: 92.39 %\t\tVal Accuracy: 91.72\n",
            "Epoch 10\t\tTrain Accuracy: 92.81 %\t\tVal Accuracy: 92.41\n"
          ],
          "name": "stdout"
        }
      ]
    },
    {
      "cell_type": "markdown",
      "metadata": {
        "id": "7Beo9PHUxUm1"
      },
      "source": [
        "Plot your peroformance using `plot_metrics` then evaluate your performance on the testloader / testset\n",
        "\n"
      ]
    },
    {
      "cell_type": "code",
      "metadata": {
        "colab": {
          "base_uri": "https://localhost:8080/",
          "height": 588
        },
        "id": "ZtQcDxKKL5xV",
        "outputId": "7dacec24-a001-4b1c-83bd-ec08d697d50c"
      },
      "source": [
        "plot_metrics(train_acc, train_loss, val_acc, val_loss)\n",
        "\n",
        "acc_test, loss_test = evaluate(tuned_dense, testloader, criterion) # CODE\n",
        "print('Test Accuracy: %2.2f %%' % acc_test,\n",
        "        'Test Loss: %2.6f' % loss_test,\n",
        "        sep='\\t\\t')"
      ],
      "execution_count": null,
      "outputs": [
        {
          "output_type": "display_data",
          "data": {
            "image/png": "[encoded data removed]",
            "text/plain": [
              "<Figure size 432x288 with 1 Axes>"
            ]
          },
          "metadata": {
            "tags": []
          }
        },
        {
          "output_type": "display_data",
          "data": {
            "image/png": "[encoded data removed]",
            "text/plain": [
              "<Figure size 432x288 with 1 Axes>"
            ]
          },
          "metadata": {
            "tags": []
          }
        },
        {
          "output_type": "stream",
          "text": [
            "Test Accuracy: 92.89 %\t\tTest Loss: 0.622753\n"
          ],
          "name": "stdout"
        }
      ]
    },
    {
      "cell_type": "markdown",
      "metadata": {
        "id": "SuaDzZtAqsh5"
      },
      "source": [
        "**Experiementations and explainations:**\n",
        "\n",
        "**`[double click here to add a solution]`**\n",
        "1. The network is built to be multi layer so the compounding of all hidden layer functions via the chain rule retreive more features/patterns by each function per layer.\n",
        "2. Activation functions are useful for applying nonlinearity to the linear compounded functions such that each hidden layer function may expect input of mean 0 and unit variance. ReLU is commonly chosen to gain universitality, allowing the functions to survive transformations. \n",
        "3. Log softmax is the last activation function where its input is the fully compounded dense network of 4 functions. Softmax is a generalized sigmoid which should be used as the final activation function in multi class problems.\n",
        "4. Momentum of 0.9 is recommended via the pytorch optimization SGD section. Momentum of 0.0 performs just GD, where the results/epoch have a much longer training time because they use the entire dataset. \n",
        "5. The learning rate of .001 allows for accuracy to consistently increase, and for loss to continuously decrease, both stabilizing @10-12 epochs. The fact it experiences much more training loss than validation loss is because the validation model is not evaluated with added regularization. This is because the minimal amount of training data in SGD could be bettered by the added features gathered from regularization after backpropogation. With proper regularization, we may expect validation loss to be about equal to training loss.\n"
      ]
    },
    {
      "cell_type": "markdown",
      "metadata": {
        "id": "ZvJTJwPfiJuh"
      },
      "source": [
        "## **Question 3:** Convolutional  Neural Networks\n",
        "\n"
      ]
    },
    {
      "cell_type": "markdown",
      "metadata": {
        "id": "vGNq6kO9t5dO"
      },
      "source": [
        "Using pytorch, build a 2d convolutional neural network with the following architecture.\n",
        "\n",
        "1. 2D Convolution mapping the 1 x L x W input to 64 feature maps\n",
        "2. 2D Convolution mapping the 64 x L x W features to 32 feature maps\n",
        "\n",
        "3. Flatten the output\n",
        "3. A dense layer mapping the flattened output to 16 nodes\n",
        "4. A final dense layer mapping the 16 nodes to 10 classes\n",
        "\n",
        "Each convolutional layer should be followed by a relu activation function then a 2D maxpool of `kernel_size` 2 and `stride` of 2\n",
        "\n",
        "Each dense layer should be followed by a relu activation"
      ]
    },
    {
      "cell_type": "code",
      "metadata": {
        "colab": {
          "base_uri": "https://localhost:8080/"
        },
        "id": "MEkXK7GWiqpB",
        "outputId": "e40af2d1-15ba-453b-c45d-c24042669451"
      },
      "source": [
        "class CNN(nn.Module):\n",
        "    def __init__(self):\n",
        "        super(CNN, self).__init__()\n",
        "        # CODE\n",
        "        self.conv1 = nn.Conv2d(in_channels=1, out_channels=64, kernel_size=3, padding=1)\n",
        "        #self.relu1 = nn.ReLU()\n",
        "        self.maxpool1 = nn.MaxPool2d(kernel_size=2, stride=2)\n",
        "\n",
        "        self.conv2 = nn.Conv2d(in_channels=64, out_channels=32, kernel_size=3, padding=1)\n",
        "        #self.relu2 = nn.ReLU()\n",
        "        self.maxpool2 = nn.MaxPool2d(kernel_size=2, stride=2)\n",
        "        \n",
        "        self.fc1 = nn.Linear(32*7*7, 16)\n",
        "        self.relu3 = nn.ReLU()\n",
        "\n",
        "        self.fc2 = nn.Linear(16,10)\n",
        "        #self.relu4 = nn.ReLU()\n",
        "\n",
        "    def forward(self, x):\n",
        "        # CODE\n",
        "        x = F.relu(self.conv1(x))\n",
        "        #x = self.relu1(x)\n",
        "        x = self.maxpool1(x)\n",
        "        \n",
        "        x = F.relu(self.conv2(x))\n",
        "        #x = self.relu2(x)\n",
        "        x = self.maxpool2(x)\n",
        "        \n",
        "        x = x.view(-1, 32*7*7)\n",
        "\n",
        "        x = F.relu(self.fc1(x))\n",
        "        #x = self.relu3(x)\n",
        "\n",
        "        x = F.relu(self.fc2(x))\n",
        "        #x = self.relu3(x)\n",
        "        \n",
        "        return x\n",
        "\n",
        "cnn = CNN().to(device)\n",
        "\n",
        "print(\"Model Architecture\")\n",
        "print(cnn)\n",
        "print(\"Number of parameters:\", count_parameters(cnn))"
      ],
      "execution_count": null,
      "outputs": [
        {
          "output_type": "stream",
          "text": [
            "Model Architecture\n",
            "CNN(\n",
            "  (conv1): Conv2d(1, 64, kernel_size=(3, 3), stride=(1, 1), padding=(1, 1))\n",
            "  (maxpool1): MaxPool2d(kernel_size=2, stride=2, padding=0, dilation=1, ceil_mode=False)\n",
            "  (conv2): Conv2d(64, 32, kernel_size=(3, 3), stride=(1, 1), padding=(1, 1))\n",
            "  (maxpool2): MaxPool2d(kernel_size=2, stride=2, padding=0, dilation=1, ceil_mode=False)\n",
            "  (fc1): Linear(in_features=1568, out_features=16, bias=True)\n",
            "  (relu3): ReLU()\n",
            "  (fc2): Linear(in_features=16, out_features=10, bias=True)\n",
            ")\n",
            "Number of parameters: 44378\n"
          ],
          "name": "stdout"
        }
      ]
    },
    {
      "cell_type": "markdown",
      "metadata": {
        "id": "NYYFhhQku67Z"
      },
      "source": [
        "Complete the following code to train the network above for 10 epochs.\n",
        "1. For your optimizer, use stochatic gradient descent (you may change this later if you would like)\n",
        "\n",
        "2. For your criterion (loss function) use Cross Entropy Loss (the one built by pytorch)\n",
        "\n",
        "**Notes and requirements:** \n",
        "- The minimum acceptable test accuracy is 90%\n",
        "- If you run your network multiple times it is possible to get very different results with each run. This is due to the random initializations.\n",
        "- You are welcome to experiment with the CNN architecture and anything else you want. You are required to experiment with different values for `learning_rate`, `momentum`, and `weight_decay` in your optimizer to improve your performance.\n",
        "- Note down your experimentations and explain how these changes impacted your performance and your understanding as to why this is the case.\n",
        "- Keep your best performing model / training method and create the same plots and testing performance as before."
      ]
    },
    {
      "cell_type": "code",
      "metadata": {
        "colab": {
          "background_save": true,
          "base_uri": "https://localhost:8080/"
        },
        "id": "xSu0ahzmi5kX",
        "outputId": "f308a46d-b924-43d3-da40-f2c29fd86daf"
      },
      "source": [
        "optimizer = optim.SGD(cnn.parameters(), lr = .05, momentum = .09, weight_decay = 0.005) # CODE\n",
        "criterion = nn.CrossEntropyLoss() # CODE\n",
        "\n",
        "train_acc, train_loss = [], []\n",
        "val_acc, val_loss = [], []\n",
        "\n",
        "print(\"Training on\", device)\n",
        "for epoch in range(10):\n",
        "    \n",
        "    acc_tr, loss_tr = train(cnn, trainloader, criterion, optimizer)\n",
        "    train_loss.append(loss_tr)\n",
        "    train_acc.append(acc_tr)\n",
        "\n",
        "    acc_v, loss_v = evaluate(cnn, valloader, criterion)\n",
        "    val_loss.append(loss_v)\n",
        "    val_acc.append(acc_v)\n",
        "\n",
        "    print('Epoch %2d' % (epoch + 1),\n",
        "            'Train Accuracy: %2.2f %%' % acc_tr,\n",
        "            'Val Accuracy: %2.2f' % acc_v,\n",
        "            sep='\\t\\t')"
      ],
      "execution_count": null,
      "outputs": [
        {
          "output_type": "stream",
          "text": [
            "Training on cpu\n",
            "Epoch  1\t\tTrain Accuracy: 84.17 %\t\tVal Accuracy: 93.76\n",
            "Epoch  2\t\tTrain Accuracy: 96.18 %\t\tVal Accuracy: 96.85\n",
            "Epoch  3\t\tTrain Accuracy: 96.95 %\t\tVal Accuracy: 97.20\n",
            "Epoch  4\t\tTrain Accuracy: 97.30 %\t\tVal Accuracy: 96.99\n",
            "Epoch  5\t\tTrain Accuracy: 97.66 %\t\tVal Accuracy: 96.57\n",
            "Epoch  6\t\tTrain Accuracy: 97.65 %\t\tVal Accuracy: 92.86\n",
            "Epoch  7\t\tTrain Accuracy: 97.72 %\t\tVal Accuracy: 96.93\n",
            "Epoch  8\t\tTrain Accuracy: 97.87 %\t\tVal Accuracy: 97.85\n",
            "Epoch  9\t\tTrain Accuracy: 97.95 %\t\tVal Accuracy: 98.07\n",
            "Epoch 10\t\tTrain Accuracy: 97.94 %\t\tVal Accuracy: 97.93\n"
          ],
          "name": "stdout"
        }
      ]
    },
    {
      "cell_type": "markdown",
      "metadata": {
        "id": "7OqvBcilxaKG"
      },
      "source": [
        "Plot your peroformance using `plot_metrics` then evaluate your performance on the testloader / testset"
      ]
    },
    {
      "cell_type": "code",
      "metadata": {
        "colab": {
          "base_uri": "https://localhost:8080/",
          "height": 588
        },
        "id": "j6csYiqqjjMi",
        "outputId": "ba4470fe-e162-41d4-bd12-18a10ef026ef"
      },
      "source": [
        "plot_metrics(train_acc, train_loss, val_acc, val_loss)\n",
        "\n",
        "acc_test, loss_test = evaluate(cnn, testloader, criterion) # CODE\n",
        "print('Test Accuracy: %2.2f %%' % acc_test,\n",
        "        'Test Loss: %2.6f' % loss_test,\n",
        "        sep='\\t\\t')"
      ],
      "execution_count": null,
      "outputs": [
        {
          "output_type": "display_data",
          "data": {
            "image/png": "[encoded data removed]",
            "text/plain": [
              "<Figure size 432x288 with 1 Axes>"
            ]
          },
          "metadata": {
            "tags": []
          }
        },
        {
          "output_type": "display_data",
          "data": {
            "image/png": "[encoded data removed]",
            "text/plain": [
              "<Figure size 432x288 with 1 Axes>"
            ]
          },
          "metadata": {
            "tags": []
          }
        },
        {
          "output_type": "stream",
          "text": [
            "Test Accuracy: 96.77 %\t\tTest Loss: 0.262668\n"
          ],
          "name": "stdout"
        }
      ]
    },
    {
      "cell_type": "markdown",
      "metadata": {
        "id": "vLuI_jUTv1Cf"
      },
      "source": [
        "**Experiementations and explainations:**\n",
        "\n",
        "**`[double click here to add a solution]`**\n",
        "\n",
        "The weight decay proportional to the learning rate/epochs allows for larger improvement in the training/validation accuracy in epochs 1-3. Choosing the learning rate first to be small enough per the 10 epochs for optimal convergence, the randomness of SGD has worked by the provided .05 learning rate, weights decay of 0.9. \n"
      ]
    },
    {
      "cell_type": "markdown",
      "metadata": {
        "id": "H2qU-xmXrCod"
      },
      "source": [
        "## **Question 4:** Compare your results\n"
      ]
    },
    {
      "cell_type": "markdown",
      "metadata": {
        "id": "5FcfTx67rI3u"
      },
      "source": [
        "Compare the cnn and dense networks your have built in terms of performance, runtime, accuracy, and any other factors you think are note worthy."
      ]
    },
    {
      "cell_type": "markdown",
      "metadata": {
        "id": "_re4mYVIrb_e"
      },
      "source": [
        "**Answer:**\n",
        "\n",
        "**`[double click here to add a solution]`**\n",
        "These CNN coefficients of activation functions lr=..05, weight decay=.005 influence the compounded expressions in the CNN algorithm to overfit the MNIST data more than a multi-layer perceptron. The training loss almost never has a value for the CNN, dropout/regularization or less complexity may make the training and validation loss as consistent as the MLP. The final accuracy of the CNN is appropriately higher than the multi-layer perceptron. Pre training all networks improve results per set of 10 epochs. Techniques such as dropout in both algorithms could improve accuracy and overfitting by randomly dropping nodes, accompanying the sparsity of SGD's samples. \n"
      ]
    },
    {
      "cell_type": "code",
      "metadata": {
        "id": "DQogua_KMT4c"
      },
      "source": [
        ""
      ],
      "execution_count": null,
      "outputs": []
    }
  ]
}